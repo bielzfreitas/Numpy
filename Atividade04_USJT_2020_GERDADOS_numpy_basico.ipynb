{
  "nbformat": 4,
  "nbformat_minor": 0,
  "metadata": {
    "colab": {
      "name": "Gabriel Freitas - Atividade04_USJT_2020_GERDADOS_numpy_basico.ipynb",
      "provenance": [],
      "collapsed_sections": []
    },
    "kernelspec": {
      "display_name": "Python 3",
      "language": "python",
      "name": "python3"
    },
    "language_info": {
      "codemirror_mode": {
        "name": "ipython",
        "version": 3
      },
      "file_extension": ".py",
      "mimetype": "text/x-python",
      "name": "python",
      "nbconvert_exporter": "python",
      "pygments_lexer": "ipython3",
      "version": "3.6.4"
    }
  },
  "cells": [
    {
      "cell_type": "markdown",
      "metadata": {
        "colab_type": "text",
        "id": "n32BWqjMaryM"
      },
      "source": [
        "![logo_usjt.png](https://www.usjt.br/app/themes/mobister/dist/images/sao-judas-universidade.png)"
      ]
    },
    {
      "cell_type": "markdown",
      "metadata": {
        "colab_type": "text",
        "id": "AC3YcC4NaryQ"
      },
      "source": [
        "# Gerenciamento de Dados e Informação\n",
        "- **Professor**: Sergio Bonato <antonio.bonato@saojudas.br>"
      ]
    },
    {
      "cell_type": "markdown",
      "metadata": {
        "colab_type": "text",
        "id": "6RalX96EaryS"
      },
      "source": [
        "# Atividade04 - NumPy Básico: Arrays e Processamento Vetorizado\n",
        "\n",
        "**Conteúdo:**\n",
        "- O que é NumPy; NumPy arrays; operações com arrays\n",
        "- NumPy: matrizes e operações com matrizes\n",
        "- NumPy: carregando dados com NumPy\n",
        "- NumPy: álgebra linear básica"
      ]
    },
    {
      "cell_type": "markdown",
      "metadata": {
        "colab_type": "text",
        "id": "tlQidP4-aryV"
      },
      "source": [
        "## Autor\n",
        "**Aluno: **\n",
        "\n",
        "Obs: esta atividade é individual."
      ]
    },
    {
      "cell_type": "markdown",
      "metadata": {
        "colab_type": "text",
        "id": "Jj1lxaHWaryX"
      },
      "source": [
        "## Exercícios"
      ]
    },
    {
      "cell_type": "markdown",
      "metadata": {
        "colab_type": "text",
        "id": "n9f1UQNWaryY"
      },
      "source": [
        "**1** Utilize o código dado para importar o arquivo `dados.csv`, que contém dados de saúde sobre homens e mulheres de diversas idades. Veja na tabela a descrição dos campos."
      ]
    },
    {
      "cell_type": "markdown",
      "metadata": {
        "colab_type": "text",
        "id": "J6KKffA6arya"
      },
      "source": [
        "|Ordem|Campo|Descrição|\n",
        "|:-|:-|:-|\n",
        "|0|sexo|Homem=0 Mulher=1|\n",
        "|1|idade|anos completos|\n",
        "|2|rendom|renda domiciliar|\n",
        "|3|anoest|anos de estudo|\n",
        "|4|altura||\n",
        "|5|peso||\n",
        "|6|probagud|0 não teve problemas nos últimos 30 dias, 1 = teve problema nos últimos 30 dias|\n",
        "|7|probcron|0 não tem problemas crônicos, 1 = tem problemas crônicos|\n",
        "|8|gastorem|gasto com medicamentos nos últimos 30 dias|"
      ]
    },
    {
      "cell_type": "markdown",
      "metadata": {
        "colab_type": "text",
        "id": "SRnmMDY6aryb"
      },
      "source": [
        "Utilize o código pronto para importar os dados. Veja que o parâmetro `converters` da função `loadtxt` contém um dicionário que converte os dados faltantes para `nan` (not a number)."
      ]
    },
    {
      "cell_type": "code",
      "metadata": {
        "colab_type": "code",
        "id": "9kuvKVd9D9OW",
        "outputId": "a3398c0b-35ab-4c57-80e6-f6fd49e0af4d",
        "colab": {
          "base_uri": "https://localhost:8080/",
          "height": 122
        }
      },
      "source": [
        "#para importar arquivos do Google Drive\n",
        "from google.colab import drive\n",
        "drive.mount('/content/gdrive')"
      ],
      "execution_count": 2,
      "outputs": [
        {
          "output_type": "stream",
          "text": [
            "Go to this URL in a browser: https://accounts.google.com/o/oauth2/auth?client_id=947318989803-6bn6qk8qdgf4n4g3pfee6491hc0brc4i.apps.googleusercontent.com&redirect_uri=urn%3aietf%3awg%3aoauth%3a2.0%3aoob&response_type=code&scope=email%20https%3a%2f%2fwww.googleapis.com%2fauth%2fdocs.test%20https%3a%2f%2fwww.googleapis.com%2fauth%2fdrive%20https%3a%2f%2fwww.googleapis.com%2fauth%2fdrive.photos.readonly%20https%3a%2f%2fwww.googleapis.com%2fauth%2fpeopleapi.readonly\n",
            "\n",
            "Enter your authorization code:\n",
            "··········\n",
            "Mounted at /content/gdrive\n"
          ],
          "name": "stdout"
        }
      ]
    },
    {
      "cell_type": "code",
      "metadata": {
        "colab_type": "code",
        "id": "RLwqMJUsUb91",
        "outputId": "9a282a99-4519-4df3-a3b1-c56300aab102",
        "colab": {
          "base_uri": "https://localhost:8080/",
          "height": 463
        }
      },
      "source": [
        "import numpy as np\n",
        "\n",
        "#coloque aqui o caminho completo do arquivo\n",
        "arquivo = '/content/gdrive/My Drive/Classroom/DataWarehousing e Data Mining USJT_2020 1 - CCPELVN-MCA/dados.csv'\n",
        "headers = np.array(['sexo', 'idade', 'rendom', 'anoest', 'altura', 'peso', 'probagud', 'probracron', 'gastorem'])\n",
        "zera = lambda x: np.nan if len(x)==0 else x\n",
        "conversores = {i:zera for i in range(9)}\n",
        "arr = None\n",
        "arr = np.loadtxt(drive.mount(\"/content/gdrive\", force_remount=True))"
      ],
      "execution_count": 276,
      "outputs": [
        {
          "output_type": "stream",
          "text": [
            "Mounted at /content/gdrive\n"
          ],
          "name": "stdout"
        },
        {
          "output_type": "error",
          "ename": "ValueError",
          "evalue": "ignored",
          "traceback": [
            "\u001b[0;31m---------------------------------------------------------------------------\u001b[0m",
            "\u001b[0;31mTypeError\u001b[0m                                 Traceback (most recent call last)",
            "\u001b[0;32m/usr/local/lib/python3.6/dist-packages/numpy/lib/npyio.py\u001b[0m in \u001b[0;36mloadtxt\u001b[0;34m(fname, dtype, comments, delimiter, converters, skiprows, usecols, unpack, ndmin, encoding, max_rows)\u001b[0m\n\u001b[1;32m    985\u001b[0m         \u001b[0;32melse\u001b[0m\u001b[0;34m:\u001b[0m\u001b[0;34m\u001b[0m\u001b[0;34m\u001b[0m\u001b[0m\n\u001b[0;32m--> 986\u001b[0;31m             \u001b[0mfh\u001b[0m \u001b[0;34m=\u001b[0m \u001b[0miter\u001b[0m\u001b[0;34m(\u001b[0m\u001b[0mfname\u001b[0m\u001b[0;34m)\u001b[0m\u001b[0;34m\u001b[0m\u001b[0;34m\u001b[0m\u001b[0m\n\u001b[0m\u001b[1;32m    987\u001b[0m             \u001b[0mfencoding\u001b[0m \u001b[0;34m=\u001b[0m \u001b[0mgetattr\u001b[0m\u001b[0;34m(\u001b[0m\u001b[0mfname\u001b[0m\u001b[0;34m,\u001b[0m \u001b[0;34m'encoding'\u001b[0m\u001b[0;34m,\u001b[0m \u001b[0;34m'latin1'\u001b[0m\u001b[0;34m)\u001b[0m\u001b[0;34m\u001b[0m\u001b[0;34m\u001b[0m\u001b[0m\n",
            "\u001b[0;31mTypeError\u001b[0m: 'NoneType' object is not iterable",
            "\nDuring handling of the above exception, another exception occurred:\n",
            "\u001b[0;31mValueError\u001b[0m                                Traceback (most recent call last)",
            "\u001b[0;32m<ipython-input-276-2b1ae135963c>\u001b[0m in \u001b[0;36m<module>\u001b[0;34m()\u001b[0m\n\u001b[1;32m      7\u001b[0m \u001b[0mconversores\u001b[0m \u001b[0;34m=\u001b[0m \u001b[0;34m{\u001b[0m\u001b[0mi\u001b[0m\u001b[0;34m:\u001b[0m\u001b[0mzera\u001b[0m \u001b[0;32mfor\u001b[0m \u001b[0mi\u001b[0m \u001b[0;32min\u001b[0m \u001b[0mrange\u001b[0m\u001b[0;34m(\u001b[0m\u001b[0;36m9\u001b[0m\u001b[0;34m)\u001b[0m\u001b[0;34m}\u001b[0m\u001b[0;34m\u001b[0m\u001b[0;34m\u001b[0m\u001b[0m\n\u001b[1;32m      8\u001b[0m \u001b[0marr\u001b[0m \u001b[0;34m=\u001b[0m \u001b[0;32mNone\u001b[0m\u001b[0;34m\u001b[0m\u001b[0;34m\u001b[0m\u001b[0m\n\u001b[0;32m----> 9\u001b[0;31m \u001b[0marr\u001b[0m \u001b[0;34m=\u001b[0m \u001b[0mnp\u001b[0m\u001b[0;34m.\u001b[0m\u001b[0mloadtxt\u001b[0m\u001b[0;34m(\u001b[0m\u001b[0mdrive\u001b[0m\u001b[0;34m.\u001b[0m\u001b[0mmount\u001b[0m\u001b[0;34m(\u001b[0m\u001b[0;34m\"/content/gdrive\"\u001b[0m\u001b[0;34m,\u001b[0m \u001b[0mforce_remount\u001b[0m\u001b[0;34m=\u001b[0m\u001b[0;32mTrue\u001b[0m\u001b[0;34m)\u001b[0m\u001b[0;34m)\u001b[0m\u001b[0;34m\u001b[0m\u001b[0;34m\u001b[0m\u001b[0m\n\u001b[0m",
            "\u001b[0;32m/usr/local/lib/python3.6/dist-packages/numpy/lib/npyio.py\u001b[0m in \u001b[0;36mloadtxt\u001b[0;34m(fname, dtype, comments, delimiter, converters, skiprows, usecols, unpack, ndmin, encoding, max_rows)\u001b[0m\n\u001b[1;32m    987\u001b[0m             \u001b[0mfencoding\u001b[0m \u001b[0;34m=\u001b[0m \u001b[0mgetattr\u001b[0m\u001b[0;34m(\u001b[0m\u001b[0mfname\u001b[0m\u001b[0;34m,\u001b[0m \u001b[0;34m'encoding'\u001b[0m\u001b[0;34m,\u001b[0m \u001b[0;34m'latin1'\u001b[0m\u001b[0;34m)\u001b[0m\u001b[0;34m\u001b[0m\u001b[0;34m\u001b[0m\u001b[0m\n\u001b[1;32m    988\u001b[0m     \u001b[0;32mexcept\u001b[0m \u001b[0mTypeError\u001b[0m\u001b[0;34m:\u001b[0m\u001b[0;34m\u001b[0m\u001b[0;34m\u001b[0m\u001b[0m\n\u001b[0;32m--> 989\u001b[0;31m         \u001b[0;32mraise\u001b[0m \u001b[0mValueError\u001b[0m\u001b[0;34m(\u001b[0m\u001b[0;34m'fname must be a string, file handle, or generator'\u001b[0m\u001b[0;34m)\u001b[0m\u001b[0;34m\u001b[0m\u001b[0;34m\u001b[0m\u001b[0m\n\u001b[0m\u001b[1;32m    990\u001b[0m \u001b[0;34m\u001b[0m\u001b[0m\n\u001b[1;32m    991\u001b[0m     \u001b[0;31m# input may be a python2 io stream\u001b[0m\u001b[0;34m\u001b[0m\u001b[0;34m\u001b[0m\u001b[0;34m\u001b[0m\u001b[0m\n",
            "\u001b[0;31mValueError\u001b[0m: fname must be a string, file handle, or generator"
          ]
        }
      ]
    },
    {
      "cell_type": "markdown",
      "metadata": {
        "colab_type": "text",
        "id": "WFuQEIVGaryg"
      },
      "source": [
        "**a)** Imprima o formato do array arr."
      ]
    },
    {
      "cell_type": "code",
      "metadata": {
        "colab_type": "code",
        "id": "veE3uXs5aryh",
        "scrolled": true,
        "outputId": "3b417e66-ea44-4a52-b94a-4c096d173d00",
        "colab": {
          "base_uri": "https://localhost:8080/",
          "height": 34
        }
      },
      "source": [
        "#solucao\n",
        "print(headers.dtype)"
      ],
      "execution_count": 277,
      "outputs": [
        {
          "output_type": "stream",
          "text": [
            "<U10\n"
          ],
          "name": "stdout"
        }
      ]
    },
    {
      "cell_type": "markdown",
      "metadata": {
        "colab_type": "text",
        "id": "bs_ftkQ7aryk"
      },
      "source": [
        "**b)** Imprima as 10 primeiras linhas do vetor e examine-as."
      ]
    },
    {
      "cell_type": "code",
      "metadata": {
        "colab_type": "code",
        "id": "Ml75cEtxaryl",
        "outputId": "fd36083f-b953-406c-b918-c62d2d97afe3",
        "colab": {
          "base_uri": "https://localhost:8080/",
          "height": 51
        }
      },
      "source": [
        "#solucao\n",
        "print(headers)"
      ],
      "execution_count": 278,
      "outputs": [
        {
          "output_type": "stream",
          "text": [
            "['sexo' 'idade' 'rendom' 'anoest' 'altura' 'peso' 'probagud' 'probracron'\n",
            " 'gastorem']\n"
          ],
          "name": "stdout"
        }
      ]
    },
    {
      "cell_type": "markdown",
      "metadata": {
        "colab_type": "text",
        "id": "-NTloFHRaryn"
      },
      "source": [
        "**c)** Verifique se há colunas com dados nan. Quais são as colunas? Dicas: use o array headers definido no código dado, a ufunction `isnan()` e a função `any()`, um loop `for` e indexação booleana."
      ]
    },
    {
      "cell_type": "code",
      "metadata": {
        "colab_type": "code",
        "id": "NnuAl0Woaryo",
        "outputId": "8cb1fc46-0c11-4e21-9116-e8740de111bd",
        "colab": {
          "base_uri": "https://localhost:8080/",
          "height": 34
        }
      },
      "source": [
        "#solucao\n",
        "np.isnan(np.nan)\n",
        "np.any(np.nan)"
      ],
      "execution_count": 281,
      "outputs": [
        {
          "output_type": "execute_result",
          "data": {
            "text/plain": [
              "True"
            ]
          },
          "metadata": {
            "tags": []
          },
          "execution_count": 281
        }
      ]
    },
    {
      "cell_type": "markdown",
      "metadata": {
        "colab_type": "text",
        "id": "WNn3FgT8aryr"
      },
      "source": [
        "**d)** Crie uma visão do array arr sem as linhas que contém anotações faltantes (dados nan)."
      ]
    },
    {
      "cell_type": "code",
      "metadata": {
        "colab_type": "code",
        "id": "rTnZmG0Warys",
        "colab": {}
      },
      "source": [
        "#solucao\n",
        "headers = np.array"
      ],
      "execution_count": 0,
      "outputs": []
    },
    {
      "cell_type": "markdown",
      "metadata": {
        "colab_type": "text",
        "id": "bnfePZb1aryu"
      },
      "source": [
        "**e)** Calcule a média de cada coluna da visão not_nan e atribua aos nan da coluna altura a média da altura e aos nan da coluna peso a média da coluna peso. Antes da trocar os nan, calcule a média das colunas de arr para ver o que acontece. \n",
        "\n",
        "Lembre-se de como funcionam os eixos! Abaixo um exemplo com a função `sum()`\n",
        "![eixos](https://saskeli.github.io/data-analysis-with-python-summer-2019/_images/aggregation.svg)"
      ]
    },
    {
      "cell_type": "code",
      "metadata": {
        "colab_type": "code",
        "id": "hzbjMI9garyx",
        "colab": {}
      },
      "source": [
        "#solução"
      ],
      "execution_count": 0,
      "outputs": []
    },
    {
      "cell_type": "markdown",
      "metadata": {
        "colab_type": "text",
        "id": "xL6ZiclZary0"
      },
      "source": [
        "**f)** calcule agora a média, o desvio padrão, o máximo e o mínimo de todas as colunas do array sem filtro"
      ]
    },
    {
      "cell_type": "code",
      "metadata": {
        "colab_type": "code",
        "id": "OKmPhGwzary1",
        "colab": {}
      },
      "source": [
        "#solução"
      ],
      "execution_count": 0,
      "outputs": []
    },
    {
      "cell_type": "markdown",
      "metadata": {
        "colab_type": "text",
        "id": "2j_myiFMary3"
      },
      "source": [
        "**2** Escreva duas funções, `get_rows` e `get_columns`, que recebem um array bidimensional como parâmetro. Elas devem retornar uma lista de linhas e colunas do array, respectivamente. As linhas e colunas devem ser matrizes unidimensionais. Você pode usar a operação de transposição, que inverte linhas para colunas, em sua solução. A transposição é feita pelo método `T`."
      ]
    },
    {
      "cell_type": "code",
      "metadata": {
        "colab_type": "code",
        "id": "YRS35Vicary3",
        "colab": {
          "base_uri": "https://localhost:8080/",
          "height": 153
        },
        "outputId": "ed9a8a36-7a71-48b2-bec9-f35d461ab739"
      },
      "source": [
        "#exemplo\n",
        "a=np.random.randint(0, 10, (4,4))\n",
        "print(a)\n",
        "print(a.T)"
      ],
      "execution_count": 156,
      "outputs": [
        {
          "output_type": "stream",
          "text": [
            "[[2 8 9 6]\n",
            " [8 5 5 1]\n",
            " [2 4 5 7]\n",
            " [7 1 7 9]]\n",
            "[[2 8 2 7]\n",
            " [8 5 4 1]\n",
            " [9 5 5 7]\n",
            " [6 1 7 9]]\n"
          ],
          "name": "stdout"
        }
      ]
    },
    {
      "cell_type": "code",
      "metadata": {
        "colab_type": "code",
        "id": "RzTljYKuary5",
        "colab": {}
      },
      "source": [
        "#solução\n",
        "def get_rows(m):\n",
        "    return m[i:]"
      ],
      "execution_count": 0,
      "outputs": []
    },
    {
      "cell_type": "code",
      "metadata": {
        "colab_type": "code",
        "id": "P4uh_VJTary7",
        "colab": {}
      },
      "source": [
        "#solução\n",
        "def get_columns(m):\n",
        "    return m[:]"
      ],
      "execution_count": 0,
      "outputs": []
    },
    {
      "cell_type": "code",
      "metadata": {
        "colab_type": "code",
        "id": "t902kUxFary9",
        "colab": {}
      },
      "source": [
        "#teste - dados\n",
        "a = np.array([[5, 0, 3, 3],\n",
        "              [7, 9, 3, 5],\n",
        "              [2, 4, 7, 6],\n",
        "              [8, 8, 1, 6]])"
      ],
      "execution_count": 0,
      "outputs": []
    },
    {
      "cell_type": "code",
      "metadata": {
        "colab_type": "code",
        "id": "bm11hIsyary_",
        "colab": {
          "base_uri": "https://localhost:8080/",
          "height": 85
        },
        "outputId": "08d07620-ae9b-44f9-aadf-84807abd1859"
      },
      "source": [
        "#teste row\n",
        "print(get_rows(a))\n",
        "#[array([5, 0, 3, 3]), array([7, 9, 3, 5]), array([2, 4, 7, 6]), array([8, 8, 1, 6])]"
      ],
      "execution_count": 146,
      "outputs": [
        {
          "output_type": "stream",
          "text": [
            "[[5 0 3 3]\n",
            " [7 9 3 5]\n",
            " [2 4 7 6]\n",
            " [8 8 1 6]]\n"
          ],
          "name": "stdout"
        }
      ]
    },
    {
      "cell_type": "code",
      "metadata": {
        "colab_type": "code",
        "id": "dCPLvQswarzB",
        "colab": {
          "base_uri": "https://localhost:8080/",
          "height": 68
        },
        "outputId": "6a527c1c-5632-4440-ece6-a0544b64d333"
      },
      "source": [
        "#teste column\n",
        "print(get_columns(a.T))\n",
        "#[array([5, 7, 2, 8]), array([0, 9, 4, 8]), array([3, 3, 7, 1]), array([3, 5, 6, 6])]"
      ],
      "execution_count": 227,
      "outputs": [
        {
          "output_type": "stream",
          "text": [
            "[[5 3]\n",
            " [0 7]\n",
            " [3 9]]\n"
          ],
          "name": "stdout"
        }
      ]
    },
    {
      "cell_type": "markdown",
      "metadata": {
        "colab_type": "text",
        "id": "Dbh0uz-sarzC"
      },
      "source": [
        "**3** Crie a função `get_row_vectors` que retorna uma lista de linhas do array de entrada da forma `(n, m)`, mas desta vez as linhas devem ter a forma `(1, m)`. Da mesma forma, crie a função get_columns_vectors que retorne uma lista de colunas (cada uma com forma `(n, 1)`) da matriz de entrada.\n",
        "\n",
        "Para a entrada:\n",
        "\n",
        "`[[5 0 3]\n",
        " [3 7 9]]`\n",
        " \n",
        "Deve ser gerada a saída:\n",
        "\n",
        "Vetor de Linhas:\n",
        "\n",
        "`[array([[5, 0, 3]]), array([[3, 7, 9]])]`\n",
        "\n",
        "Vetor de Colunas:\n",
        "\n",
        "`[array([[5],\n",
        "        [3]]),\n",
        " array([[0],\n",
        "        [7]]),\n",
        " array([[3],\n",
        "        [9]])]`"
      ]
    },
    {
      "cell_type": "code",
      "metadata": {
        "colab_type": "code",
        "id": "edlCf3QgarzD",
        "colab": {}
      },
      "source": [
        "#solucao row\n",
        "def get_row_vectors(m):\n",
        "    return [m]"
      ],
      "execution_count": 0,
      "outputs": []
    },
    {
      "cell_type": "code",
      "metadata": {
        "colab_type": "code",
        "id": "HZTzZhLXarzE",
        "colab": {}
      },
      "source": [
        "#solucao column\n",
        "def get_column_vectors(m):\n",
        "    m = m.T\n",
        "    return [m]"
      ],
      "execution_count": 0,
      "outputs": []
    },
    {
      "cell_type": "code",
      "metadata": {
        "colab_type": "code",
        "id": "2yV6pRWYarzG",
        "colab": {
          "base_uri": "https://localhost:8080/",
          "height": 34
        },
        "outputId": "04e2bec3-a682-4c2e-f4ea-1602a833d889"
      },
      "source": [
        "#teste - dados\n",
        "a = np.array([[5, 0, 3],[3, 7, 9]])\n",
        "a.shape"
      ],
      "execution_count": 216,
      "outputs": [
        {
          "output_type": "execute_result",
          "data": {
            "text/plain": [
              "(2, 3)"
            ]
          },
          "metadata": {
            "tags": []
          },
          "execution_count": 216
        }
      ]
    },
    {
      "cell_type": "code",
      "metadata": {
        "colab_type": "code",
        "id": "rPdmBx03arzI",
        "colab": {
          "base_uri": "https://localhost:8080/",
          "height": 51
        },
        "outputId": "f5ad5813-fbe0-46c1-ba45-63e50293ab77"
      },
      "source": [
        "#teste row\n",
        "print(get_row_vectors(a))"
      ],
      "execution_count": 229,
      "outputs": [
        {
          "output_type": "stream",
          "text": [
            "[array([[5, 0, 3],\n",
            "       [3, 7, 9]])]\n"
          ],
          "name": "stdout"
        }
      ]
    },
    {
      "cell_type": "code",
      "metadata": {
        "colab_type": "code",
        "id": "jA97Taq6arzJ",
        "scrolled": true,
        "colab": {
          "base_uri": "https://localhost:8080/",
          "height": 68
        },
        "outputId": "3722e68c-359c-4057-821b-2e2a5398f963"
      },
      "source": [
        "#test column\n",
        "print(get_column_vectors(a))"
      ],
      "execution_count": 231,
      "outputs": [
        {
          "output_type": "stream",
          "text": [
            "[array([[5, 3],\n",
            "       [0, 7],\n",
            "       [3, 9]])]\n"
          ],
          "name": "stdout"
        }
      ]
    },
    {
      "cell_type": "markdown",
      "metadata": {
        "colab_type": "text",
        "id": "Xf52OnSDarzL"
      },
      "source": [
        "**4** Crie a função `diamante` que retorne um array inteiro bidimensional em que os 1s formem uma forma de diamante. O restante dos números é 0. A função deve receber um parâmetro que informe o comprimento de um lado do diamante. Faça isso usando as funções `eye` e `concatenate` do NumPy e o fatiamento de array.\n",
        "\n",
        "Ex:\n",
        "\n",
        "`print(diamante(3))`\n",
        "\n",
        "`[[0 0 1 0 0]\n",
        " [0 1 0 1 0]\n",
        " [1 0 0 0 1]\n",
        " [0 1 0 1 0]\n",
        " [0 0 1 0 0]]`\n",
        "\n",
        "`print(diamante(1))`\n",
        "\n",
        "`[[1]]`"
      ]
    },
    {
      "cell_type": "code",
      "metadata": {
        "colab_type": "code",
        "id": "VNoP0twcarzL",
        "colab": {
          "base_uri": "https://localhost:8080/",
          "height": 68
        },
        "outputId": "ee0a62db-e2e4-46c3-cb8b-229ba4f039c8"
      },
      "source": [
        "#Exemplo do concatenate\n",
        "a = np.array([[1, 2], [3, 4]])\n",
        "b = np.array([[5, 6]])\n",
        "np.concatenate((a, b), axis=0)"
      ],
      "execution_count": 232,
      "outputs": [
        {
          "output_type": "execute_result",
          "data": {
            "text/plain": [
              "array([[1, 2],\n",
              "       [3, 4],\n",
              "       [5, 6]])"
            ]
          },
          "metadata": {
            "tags": []
          },
          "execution_count": 232
        }
      ]
    },
    {
      "cell_type": "code",
      "metadata": {
        "colab_type": "code",
        "id": "teDH_XiyarzN",
        "colab": {
          "base_uri": "https://localhost:8080/",
          "height": 51
        },
        "outputId": "960dbf84-51cd-454e-9093-ae73cc46c65e"
      },
      "source": [
        "#Exemplo do concatenate\n",
        "np.concatenate((a, b.T), axis=1)"
      ],
      "execution_count": 233,
      "outputs": [
        {
          "output_type": "execute_result",
          "data": {
            "text/plain": [
              "array([[1, 2, 5],\n",
              "       [3, 4, 6]])"
            ]
          },
          "metadata": {
            "tags": []
          },
          "execution_count": 233
        }
      ]
    },
    {
      "cell_type": "code",
      "metadata": {
        "colab_type": "code",
        "id": "hdV16qonarzO",
        "colab": {
          "base_uri": "https://localhost:8080/",
          "height": 34
        },
        "outputId": "9cc488ba-ac56-40a0-c093-043d91c83862"
      },
      "source": [
        "#Exemplo do concatenate\n",
        "np.concatenate((a, b), axis=None)"
      ],
      "execution_count": 234,
      "outputs": [
        {
          "output_type": "execute_result",
          "data": {
            "text/plain": [
              "array([1, 2, 3, 4, 5, 6])"
            ]
          },
          "metadata": {
            "tags": []
          },
          "execution_count": 234
        }
      ]
    },
    {
      "cell_type": "code",
      "metadata": {
        "colab_type": "code",
        "id": "7Pu_ZB26arzP",
        "colab": {}
      },
      "source": [
        "#solução\n",
        "def diamante(n):\n",
        "  \n",
        "  pass\n",
        "  np.eye(10).astype(dtype='i8')"
      ],
      "execution_count": 0,
      "outputs": []
    },
    {
      "cell_type": "code",
      "metadata": {
        "colab_type": "code",
        "id": "MER5lvF1arzR",
        "colab": {
          "base_uri": "https://localhost:8080/",
          "height": 34
        },
        "outputId": "b64a7346-4526-450b-e1a9-2377bbe8a5b4"
      },
      "source": [
        "#teste\n",
        "print(diamante(3))"
      ],
      "execution_count": 248,
      "outputs": [
        {
          "output_type": "stream",
          "text": [
            "None\n"
          ],
          "name": "stdout"
        }
      ]
    },
    {
      "cell_type": "code",
      "metadata": {
        "colab_type": "code",
        "id": "siKcjXaearzS",
        "colab": {
          "base_uri": "https://localhost:8080/",
          "height": 34
        },
        "outputId": "0b778e8a-ec3e-4c5c-c3c3-f93825aaef16"
      },
      "source": [
        "#teste\n",
        "print(diamante(1))"
      ],
      "execution_count": 246,
      "outputs": [
        {
          "output_type": "stream",
          "text": [
            "None\n"
          ],
          "name": "stdout"
        }
      ]
    },
    {
      "cell_type": "markdown",
      "metadata": {
        "colab_type": "text",
        "id": "MqJ0kz8jarzT"
      },
      "source": [
        "**5** Escreva a função lambda `so_pares` que receba um array unidimensional de inteiros e devolva este array sem números ímpares. Dica: use indexação booleana.\n",
        "\n",
        "Ex:\n",
        "\n",
        "Entrada: \n",
        "\n",
        "`arr = np.array([0,1,2,3,4,5,6,7,8,9])`\n",
        "\n",
        "Saída:\n",
        "\n",
        "`array([0, 2, 4, 6, 8])`"
      ]
    },
    {
      "cell_type": "code",
      "metadata": {
        "colab_type": "code",
        "id": "xNfs02lharzU",
        "colab": {}
      },
      "source": [
        "#solucao\n",
        "arr = np.array([0,1,2,3,4,5,6,7,8,9])\n",
        "so_pares = lambda x: x * 2\n",
        "\n",
        "vectorize = np.vectorize(so_pares)"
      ],
      "execution_count": 0,
      "outputs": []
    },
    {
      "cell_type": "code",
      "metadata": {
        "colab_type": "code",
        "id": "4aEdKKcvarzV",
        "colab": {
          "base_uri": "https://localhost:8080/",
          "height": 34
        },
        "outputId": "ed5096b8-6f94-4729-8db7-f2961b8ab28d"
      },
      "source": [
        "#teste\n",
        "arr = np.arange(5)\n",
        "print(vectorize(arr))"
      ],
      "execution_count": 266,
      "outputs": [
        {
          "output_type": "stream",
          "text": [
            "[0 2 4 6 8]\n"
          ],
          "name": "stdout"
        }
      ]
    },
    {
      "cell_type": "markdown",
      "metadata": {
        "colab_type": "text",
        "id": "ZwTTdLZNarzX"
      },
      "source": [
        "**6** Escreva a função lambda `cade_os_iguais` que receba dois arrays unidimensionais de inteiros x e y e devolva um array com a(s) posição(ões) em que há números iguais nos dos arrays. Não use `for`. Dica: use np.where\n",
        "\n",
        "Ex:\n",
        "\n",
        "Entrada: \n",
        "\n",
        "`x = np.array([5,6,7,8,3,4])`\n",
        "\n",
        "`y = np.array([5,3,4,5,2,4])`\n",
        "\n",
        "Saída:\n",
        "\n",
        "`array([0, 5])`"
      ]
    },
    {
      "cell_type": "code",
      "metadata": {
        "colab_type": "code",
        "id": "nq4FPEFaarzX",
        "colab": {}
      },
      "source": [
        "#solucao\n",
        "x = np.array([5,6,7,8,3,4])\n",
        "y = np.array([5,3,4,5,2,4])\n",
        "cade_os_iguais = lambda x: y\n",
        "np.where(x == y)\n",
        "\n",
        "vectorize = np.vectorize(cade_os_iguais)"
      ],
      "execution_count": 0,
      "outputs": []
    },
    {
      "cell_type": "code",
      "metadata": {
        "colab_type": "code",
        "id": "Ntty0be2arzY",
        "colab": {
          "base_uri": "https://localhost:8080/",
          "height": 34
        },
        "outputId": "0b2d28c3-cf7c-453a-ed17-06d6b121316c"
      },
      "source": [
        "#teste\n",
        "x = np.array([5,6,7,8,3,4])\n",
        "y = np.array([5,3,4,5,2,4])\n",
        "print(vectorize(np.where))"
      ],
      "execution_count": 275,
      "outputs": [
        {
          "output_type": "stream",
          "text": [
            "[5 3 4 5 2 4]\n"
          ],
          "name": "stdout"
        }
      ]
    },
    {
      "cell_type": "code",
      "metadata": {
        "colab_type": "code",
        "id": "gaz5o6mAarza",
        "colab": {}
      },
      "source": [
        ""
      ],
      "execution_count": 0,
      "outputs": []
    },
    {
      "cell_type": "code",
      "metadata": {
        "colab_type": "code",
        "id": "xe4TD6jYarzb",
        "colab": {}
      },
      "source": [
        ""
      ],
      "execution_count": 0,
      "outputs": []
    }
  ]
}